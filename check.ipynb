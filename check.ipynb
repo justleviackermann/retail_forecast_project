{
 "cells": [
  {
   "cell_type": "markdown",
   "id": "f321211a",
   "metadata": {},
   "source": [
    "Importing "
   ]
  },
  {
   "cell_type": "code",
   "execution_count": 1,
   "id": "4a500f7c",
   "metadata": {},
   "outputs": [],
   "source": [
    "import numpy as np\n",
    "import pandas as pd\n",
    "from sklearn.ensemble import RandomForestRegressor\n",
    "from sklearn.linear_model import LinearRegression\n",
    "from sklearn.metrics import mean_squared_error, mean_absolute_error, r2_score\n",
    "from sklearn.model_selection import train_test_split\n",
    "import xgboost as xgb\n",
    "from sklearn.preprocessing import LabelEncoder\n"
   ]
  },
  {
   "cell_type": "markdown",
   "id": "51383dbe",
   "metadata": {},
   "source": [
    "loading data"
   ]
  },
  {
   "cell_type": "code",
   "execution_count": 2,
   "id": "095ddf25",
   "metadata": {},
   "outputs": [],
   "source": [
    "\n",
    "# Load files\n",
    "train_df = pd.read_csv(\"train.csv\")\n",
    "features_df = pd.read_csv(\"features.csv\")\n",
    "stores_df = pd.read_csv(\"stores.csv\")\n"
   ]
  },
  {
   "cell_type": "markdown",
   "id": "5e0e4e89",
   "metadata": {},
   "source": [
    "Merging"
   ]
  },
  {
   "cell_type": "code",
   "execution_count": 3,
   "id": "69f85cfd",
   "metadata": {},
   "outputs": [
    {
     "name": "stdout",
     "output_type": "stream",
     "text": [
      "   Store  Dept        Date  Weekly_Sales  IsHoliday  Temperature  Fuel_Price  \\\n",
      "0      1     1  2010-02-05      24924.50      False        42.31       2.572   \n",
      "1      1     1  2010-02-12      46039.49       True        38.51       2.548   \n",
      "2      1     1  2010-02-19      41595.55      False        39.93       2.514   \n",
      "3      1     1  2010-02-26      19403.54      False        46.63       2.561   \n",
      "4      1     1  2010-03-05      21827.90      False        46.50       2.625   \n",
      "\n",
      "   MarkDown1  MarkDown2  MarkDown3  MarkDown4  MarkDown5         CPI  \\\n",
      "0        NaN        NaN        NaN        NaN        NaN  211.096358   \n",
      "1        NaN        NaN        NaN        NaN        NaN  211.242170   \n",
      "2        NaN        NaN        NaN        NaN        NaN  211.289143   \n",
      "3        NaN        NaN        NaN        NaN        NaN  211.319643   \n",
      "4        NaN        NaN        NaN        NaN        NaN  211.350143   \n",
      "\n",
      "   Unemployment Type    Size  \n",
      "0         8.106    A  151315  \n",
      "1         8.106    A  151315  \n",
      "2         8.106    A  151315  \n",
      "3         8.106    A  151315  \n",
      "4         8.106    A  151315  \n",
      "        Store  Dept        Date  Weekly_Sales  IsHoliday  Temperature  \\\n",
      "0           1     1  2010-02-05      24924.50      False        42.31   \n",
      "1           1     1  2010-02-12      46039.49       True        38.51   \n",
      "2           1     1  2010-02-19      41595.55      False        39.93   \n",
      "3           1     1  2010-02-26      19403.54      False        46.63   \n",
      "4           1     1  2010-03-05      21827.90      False        46.50   \n",
      "...       ...   ...         ...           ...        ...          ...   \n",
      "421565     45    98  2012-09-28        508.37      False        64.88   \n",
      "421566     45    98  2012-10-05        628.10      False        64.89   \n",
      "421567     45    98  2012-10-12       1061.02      False        54.47   \n",
      "421568     45    98  2012-10-19        760.01      False        56.47   \n",
      "421569     45    98  2012-10-26       1076.80      False        58.85   \n",
      "\n",
      "        Fuel_Price         CPI  Unemployment Type    Size  \n",
      "0            2.572  211.096358         8.106    A  151315  \n",
      "1            2.548  211.242170         8.106    A  151315  \n",
      "2            2.514  211.289143         8.106    A  151315  \n",
      "3            2.561  211.319643         8.106    A  151315  \n",
      "4            2.625  211.350143         8.106    A  151315  \n",
      "...            ...         ...           ...  ...     ...  \n",
      "421565       3.997  192.013558         8.684    B  118221  \n",
      "421566       3.985  192.170412         8.667    B  118221  \n",
      "421567       4.000  192.327265         8.667    B  118221  \n",
      "421568       3.969  192.330854         8.667    B  118221  \n",
      "421569       3.882  192.308899         8.667    B  118221  \n",
      "\n",
      "[421570 rows x 11 columns]\n"
     ]
    }
   ],
   "source": [
    "\n",
    "# Merge step by step\n",
    "dataset= pd.merge(train_df, features_df, on=[\"Store\", \"Date\", \"IsHoliday\"], how=\"left\")\n",
    "dataset = pd.merge(dataset, stores_df, on=\"Store\", how=\"left\")\n",
    "print(dataset.head())\n",
    "\n",
    "\n",
    "dataset=dataset.drop([\"MarkDown1\",\"MarkDown2\",\"MarkDown3\",\"MarkDown4\",\"MarkDown5\"],axis=1)\n",
    "print(dataset)\n",
    "\n"
   ]
  },
  {
   "cell_type": "markdown",
   "id": "2c9482b1",
   "metadata": {},
   "source": [
    "encoding data"
   ]
  },
  {
   "cell_type": "code",
   "execution_count": 4,
   "id": "3b77a1e6",
   "metadata": {},
   "outputs": [
    {
     "name": "stdout",
     "output_type": "stream",
     "text": [
      "        Store  Dept        Date  Weekly_Sales  IsHoliday  Temperature  \\\n",
      "0           1     1  2010-02-05      24924.50      False        42.31   \n",
      "1           1     1  2010-02-12      46039.49       True        38.51   \n",
      "2           1     1  2010-02-19      41595.55      False        39.93   \n",
      "3           1     1  2010-02-26      19403.54      False        46.63   \n",
      "4           1     1  2010-03-05      21827.90      False        46.50   \n",
      "...       ...   ...         ...           ...        ...          ...   \n",
      "421565     45    98  2012-09-28        508.37      False        64.88   \n",
      "421566     45    98  2012-10-05        628.10      False        64.89   \n",
      "421567     45    98  2012-10-12       1061.02      False        54.47   \n",
      "421568     45    98  2012-10-19        760.01      False        56.47   \n",
      "421569     45    98  2012-10-26       1076.80      False        58.85   \n",
      "\n",
      "        Fuel_Price         CPI  Unemployment  Type    Size  \n",
      "0            2.572  211.096358         8.106     0  151315  \n",
      "1            2.548  211.242170         8.106     0  151315  \n",
      "2            2.514  211.289143         8.106     0  151315  \n",
      "3            2.561  211.319643         8.106     0  151315  \n",
      "4            2.625  211.350143         8.106     0  151315  \n",
      "...            ...         ...           ...   ...     ...  \n",
      "421565       3.997  192.013558         8.684     1  118221  \n",
      "421566       3.985  192.170412         8.667     1  118221  \n",
      "421567       4.000  192.327265         8.667     1  118221  \n",
      "421568       3.969  192.330854         8.667     1  118221  \n",
      "421569       3.882  192.308899         8.667     1  118221  \n",
      "\n",
      "[421570 rows x 11 columns]\n",
      "['A' 'B' 'C']\n"
     ]
    }
   ],
   "source": [
    "\n",
    "\n",
    "\n",
    "encoder = LabelEncoder()\n",
    "dataset.Type = encoder.fit_transform(dataset.Type)\n",
    "\n",
    "print(dataset)         # [0 1 2 0 1]\n",
    "print(encoder.classes_) # ['StoreA' 'StoreB' 'StoreC']\n",
    "\n"
   ]
  },
  {
   "cell_type": "markdown",
   "id": "a35cd73f",
   "metadata": {},
   "source": [
    "date separtated to date month and year"
   ]
  },
  {
   "cell_type": "code",
   "execution_count": 5,
   "id": "7e2fa3e4",
   "metadata": {},
   "outputs": [],
   "source": [
    "\n",
    "\n",
    "\n",
    "def create_date_features(df, date_col):\n",
    "    \"\"\"\n",
    "    Converts a date column into ML-friendly features for retail forecasting.\n",
    "\n",
    "    Parameters:\n",
    "    df (pd.DataFrame): Your dataset\n",
    "    date_col (str): Column name containing the date\n",
    "\n",
    "    Returns:\n",
    "    pd.DataFrame: Dataset with new date features\n",
    "    \"\"\"\n",
    "    # Convert to datetime\n",
    "    df[date_col] = pd.to_datetime(df[date_col])\n",
    "\n",
    "    # Time-based features\n",
    "    df['year'] = df[date_col].dt.year\n",
    "    df['month'] = df[date_col].dt.month\n",
    "    df['day'] = df[date_col].dt.day\n",
    "    df['dayofweek'] = df[date_col].dt.dayofweek  # 0=Mon, 6=Sun\n",
    "    df['weekofyear'] = df[date_col].dt.isocalendar().week.astype(int)\n",
    "    df['quarter'] = df[date_col].dt.quarter\n",
    "    df['is_weekend'] = df['dayofweek'].isin([5,6]).astype(int)\n",
    "\n",
    "    # Continuous time (trend)\n",
    "    df['days_since'] = (df[date_col] - df[date_col].min()).dt.days\n",
    "\n",
    "    # Cyclical encoding for seasonality\n",
    "    df['month_sin'] = np.sin(2 * np.pi * df['month']/12)\n",
    "    df['month_cos'] = np.cos(2 * np.pi * df['month']/12)\n",
    "    df['dow_sin'] = np.sin(2 * np.pi * df['dayofweek']/7)\n",
    "    df['dow_cos'] = np.cos(2 * np.pi * df['dayofweek']/7)\n",
    "\n",
    "    return df\n"
   ]
  },
  {
   "cell_type": "markdown",
   "id": "f42451d4",
   "metadata": {},
   "source": [
    "dropping unwanted data"
   ]
  },
  {
   "cell_type": "code",
   "execution_count": 6,
   "id": "db2668f5",
   "metadata": {},
   "outputs": [
    {
     "name": "stdout",
     "output_type": "stream",
     "text": [
      "        Store  Dept  IsHoliday  Temperature  Fuel_Price         CPI  \\\n",
      "0           1     1      False        42.31       2.572  211.096358   \n",
      "1           1     1       True        38.51       2.548  211.242170   \n",
      "2           1     1      False        39.93       2.514  211.289143   \n",
      "3           1     1      False        46.63       2.561  211.319643   \n",
      "4           1     1      False        46.50       2.625  211.350143   \n",
      "...       ...   ...        ...          ...         ...         ...   \n",
      "421565     45    98      False        64.88       3.997  192.013558   \n",
      "421566     45    98      False        64.89       3.985  192.170412   \n",
      "421567     45    98      False        54.47       4.000  192.327265   \n",
      "421568     45    98      False        56.47       3.969  192.330854   \n",
      "421569     45    98      False        58.85       3.882  192.308899   \n",
      "\n",
      "        Unemployment  Type    Size  year  ...  day  dayofweek  weekofyear  \\\n",
      "0              8.106     0  151315  2010  ...    5          4           5   \n",
      "1              8.106     0  151315  2010  ...   12          4           6   \n",
      "2              8.106     0  151315  2010  ...   19          4           7   \n",
      "3              8.106     0  151315  2010  ...   26          4           8   \n",
      "4              8.106     0  151315  2010  ...    5          4           9   \n",
      "...              ...   ...     ...   ...  ...  ...        ...         ...   \n",
      "421565         8.684     1  118221  2012  ...   28          4          39   \n",
      "421566         8.667     1  118221  2012  ...    5          4          40   \n",
      "421567         8.667     1  118221  2012  ...   12          4          41   \n",
      "421568         8.667     1  118221  2012  ...   19          4          42   \n",
      "421569         8.667     1  118221  2012  ...   26          4          43   \n",
      "\n",
      "        quarter  is_weekend  days_since  month_sin     month_cos   dow_sin  \\\n",
      "0             1           0           0   0.866025  5.000000e-01 -0.433884   \n",
      "1             1           0           7   0.866025  5.000000e-01 -0.433884   \n",
      "2             1           0          14   0.866025  5.000000e-01 -0.433884   \n",
      "3             1           0          21   0.866025  5.000000e-01 -0.433884   \n",
      "4             1           0          28   1.000000  6.123234e-17 -0.433884   \n",
      "...         ...         ...         ...        ...           ...       ...   \n",
      "421565        3           0         966  -1.000000 -1.836970e-16 -0.433884   \n",
      "421566        4           0         973  -0.866025  5.000000e-01 -0.433884   \n",
      "421567        4           0         980  -0.866025  5.000000e-01 -0.433884   \n",
      "421568        4           0         987  -0.866025  5.000000e-01 -0.433884   \n",
      "421569        4           0         994  -0.866025  5.000000e-01 -0.433884   \n",
      "\n",
      "         dow_cos  \n",
      "0      -0.900969  \n",
      "1      -0.900969  \n",
      "2      -0.900969  \n",
      "3      -0.900969  \n",
      "4      -0.900969  \n",
      "...          ...  \n",
      "421565 -0.900969  \n",
      "421566 -0.900969  \n",
      "421567 -0.900969  \n",
      "421568 -0.900969  \n",
      "421569 -0.900969  \n",
      "\n",
      "[421570 rows x 21 columns]\n",
      "        Store  Dept  IsHoliday  Temperature  Fuel_Price         CPI  \\\n",
      "0           1     1          0        42.31       2.572  211.096358   \n",
      "1           1     1          1        38.51       2.548  211.242170   \n",
      "2           1     1          0        39.93       2.514  211.289143   \n",
      "3           1     1          0        46.63       2.561  211.319643   \n",
      "4           1     1          0        46.50       2.625  211.350143   \n",
      "...       ...   ...        ...          ...         ...         ...   \n",
      "421565     45    98          0        64.88       3.997  192.013558   \n",
      "421566     45    98          0        64.89       3.985  192.170412   \n",
      "421567     45    98          0        54.47       4.000  192.327265   \n",
      "421568     45    98          0        56.47       3.969  192.330854   \n",
      "421569     45    98          0        58.85       3.882  192.308899   \n",
      "\n",
      "        Unemployment  Type    Size  year  ...  day  dayofweek  weekofyear  \\\n",
      "0              8.106     0  151315  2010  ...    5          4           5   \n",
      "1              8.106     0  151315  2010  ...   12          4           6   \n",
      "2              8.106     0  151315  2010  ...   19          4           7   \n",
      "3              8.106     0  151315  2010  ...   26          4           8   \n",
      "4              8.106     0  151315  2010  ...    5          4           9   \n",
      "...              ...   ...     ...   ...  ...  ...        ...         ...   \n",
      "421565         8.684     1  118221  2012  ...   28          4          39   \n",
      "421566         8.667     1  118221  2012  ...    5          4          40   \n",
      "421567         8.667     1  118221  2012  ...   12          4          41   \n",
      "421568         8.667     1  118221  2012  ...   19          4          42   \n",
      "421569         8.667     1  118221  2012  ...   26          4          43   \n",
      "\n",
      "        quarter  is_weekend  days_since  month_sin     month_cos   dow_sin  \\\n",
      "0             1           0           0   0.866025  5.000000e-01 -0.433884   \n",
      "1             1           0           7   0.866025  5.000000e-01 -0.433884   \n",
      "2             1           0          14   0.866025  5.000000e-01 -0.433884   \n",
      "3             1           0          21   0.866025  5.000000e-01 -0.433884   \n",
      "4             1           0          28   1.000000  6.123234e-17 -0.433884   \n",
      "...         ...         ...         ...        ...           ...       ...   \n",
      "421565        3           0         966  -1.000000 -1.836970e-16 -0.433884   \n",
      "421566        4           0         973  -0.866025  5.000000e-01 -0.433884   \n",
      "421567        4           0         980  -0.866025  5.000000e-01 -0.433884   \n",
      "421568        4           0         987  -0.866025  5.000000e-01 -0.433884   \n",
      "421569        4           0         994  -0.866025  5.000000e-01 -0.433884   \n",
      "\n",
      "         dow_cos  \n",
      "0      -0.900969  \n",
      "1      -0.900969  \n",
      "2      -0.900969  \n",
      "3      -0.900969  \n",
      "4      -0.900969  \n",
      "...          ...  \n",
      "421565 -0.900969  \n",
      "421566 -0.900969  \n",
      "421567 -0.900969  \n",
      "421568 -0.900969  \n",
      "421569 -0.900969  \n",
      "\n",
      "[421570 rows x 21 columns]\n"
     ]
    }
   ],
   "source": [
    "\n",
    "\n",
    "\n",
    "dataset=create_date_features(dataset,\"Date\")\n",
    "# X = all columns except Weekly_Sales\n",
    "X = dataset.loc[:, dataset.columns != \"Weekly_Sales\"]\n",
    "\n",
    "# y = Weekly_Sales column\n",
    "y = dataset.loc[:, \"Weekly_Sales\"]\n",
    "\n",
    "X=X.drop(\"Date\",axis=1)\n",
    "\n",
    "\n",
    "\n",
    "print(X)\n",
    "X[\"IsHoliday\"] = X[\"IsHoliday\"].astype(int)\n",
    "print(X)\n"
   ]
  },
  {
   "cell_type": "markdown",
   "id": "7d1b1b6a",
   "metadata": {},
   "source": [
    "split the data"
   ]
  },
  {
   "cell_type": "code",
   "execution_count": 7,
   "id": "101f9839",
   "metadata": {},
   "outputs": [],
   "source": [
    "\n",
    "# -------------------------------\n",
    "# 1. Split the data\n",
    "# -------------------------------\n",
    "X_train, X_temp, y_train, y_temp = train_test_split(\n",
    "    X, y, test_size=0.3, random_state=42\n",
    ")\n",
    "X_val, X_test, y_val, y_test = train_test_split(\n",
    "    X_temp, y_temp, test_size=0.5, random_state=42\n",
    ")\n"
   ]
  },
  {
   "cell_type": "markdown",
   "id": "5e57d29e",
   "metadata": {},
   "source": [
    "random forest "
   ]
  },
  {
   "cell_type": "code",
   "execution_count": 8,
   "id": "778391f4",
   "metadata": {},
   "outputs": [],
   "source": [
    "\n",
    "# -------------------------------\n",
    "# 2. Train Random Forest\n",
    "# -------------------------------\n",
    "rf_model = RandomForestRegressor(random_state=42, n_jobs=-1)\n",
    "rf_model.fit(X_train, y_train)\n",
    "\n",
    "rf_val_pred = rf_model.predict(X_val)\n",
    "rf_test_pred = rf_model.predict(X_test)\n"
   ]
  },
  {
   "cell_type": "markdown",
   "id": "40256791",
   "metadata": {},
   "source": [
    "xgboost"
   ]
  },
  {
   "cell_type": "code",
   "execution_count": 9,
   "id": "d7abbb52",
   "metadata": {},
   "outputs": [],
   "source": [
    "\n",
    "# -------------------------------\n",
    "# 3. Train XGBoost\n",
    "# -------------------------------\n",
    "dtrain = xgb.DMatrix(X_train, label=y_train)\n",
    "dval   = xgb.DMatrix(X_val, label=y_val)\n",
    "dtest  = xgb.DMatrix(X_test, label=y_test)\n",
    "\n",
    "params = {\n",
    "    \"objective\": \"reg:squarederror\",\n",
    "    \"learning_rate\": 0.03,\n",
    "    \"max_depth\": 6,\n",
    "    \"min_child_weight\": 3,\n",
    "    \"subsample\": 0.8,\n",
    "    \"colsample_bytree\": 0.8,\n",
    "    \"reg_alpha\": 0.01,\n",
    "    \"reg_lambda\": 1.5,\n",
    "    \"eval_metric\": \"rmse\",\n",
    "    \"seed\": 42,\n",
    "}\n",
    "\n",
    "evals = [(dtrain, \"train\"), (dval, \"val\")]\n",
    "xgb_model = xgb.train(\n",
    "    params,\n",
    "    dtrain,\n",
    "    num_boost_round=5000,\n",
    "    evals=evals,\n",
    "    early_stopping_rounds=50,\n",
    "    verbose_eval=False\n",
    ")\n",
    "\n",
    "xgb_val_pred = xgb_model.predict(dval)\n",
    "xgb_test_pred = xgb_model.predict(dtest)\n"
   ]
  },
  {
   "cell_type": "markdown",
   "id": "19a900bc",
   "metadata": {},
   "source": [
    "combine using linear regression "
   ]
  },
  {
   "cell_type": "code",
   "execution_count": 10,
   "id": "f2154130",
   "metadata": {},
   "outputs": [],
   "source": [
    "\n",
    "# -------------------------------\n",
    "# 4. Combine using Linear Regression\n",
    "# -------------------------------\n",
    "# Stack validation predictions for training meta-model\n",
    "meta_X_train = np.column_stack((rf_val_pred, xgb_val_pred))\n",
    "meta_X_test = np.column_stack((rf_test_pred, xgb_test_pred))\n",
    "\n",
    "\n",
    "\n",
    "meta_model = LinearRegression()\n",
    "meta_model.fit(meta_X_train, y_val)\n",
    "\n",
    "final_pred = meta_model.predict(meta_X_test)\n",
    "\n",
    "# -------------------------------\n",
    "# 5. Evaluate all models\n",
    "# -------------------------------\n",
    "def evaluate_model(name, y_true, y_pred):\n",
    "    mse = mean_squared_error(y_true, y_pred)\n",
    "    rmse = np.sqrt(mse)\n",
    "    mae = mean_absolute_error(y_true, y_pred)\n",
    "    r2 = r2_score(y_true, y_pred)\n",
    "    print(f\"\\n✅ {name} Performance:\")\n",
    "    print(f\"MSE : {mse:.4f}\")\n",
    "    print(f\"RMSE: {rmse:.4f}\")\n",
    "    print(f\"MAE : {mae:.4f}\")\n",
    "    print(f\"R²  : {r2:.4f}\")\n"
   ]
  },
  {
   "cell_type": "markdown",
   "id": "99779cff",
   "metadata": {},
   "source": [
    "evaluating performance"
   ]
  },
  {
   "cell_type": "code",
   "execution_count": 11,
   "id": "3b33f1c0",
   "metadata": {},
   "outputs": [
    {
     "name": "stdout",
     "output_type": "stream",
     "text": [
      "\n",
      "✅ Random Forest Performance:\n",
      "MSE : 11775876.4346\n",
      "RMSE: 3431.5997\n",
      "MAE : 1343.9862\n",
      "R²  : 0.9769\n",
      "\n",
      "✅ XGBoost Performance:\n",
      "MSE : 13274648.2036\n",
      "RMSE: 3643.4391\n",
      "MAE : 1984.4220\n",
      "R²  : 0.9739\n",
      "\n",
      "✅ Stacked Model (Linear Regression) Performance:\n",
      "MSE : 10201513.1571\n",
      "RMSE: 3193.9808\n",
      "MAE : 1435.3660\n",
      "R²  : 0.9800\n"
     ]
    }
   ],
   "source": [
    "\n",
    "# Random Forest\n",
    "evaluate_model(\"Random Forest\", y_test, rf_test_pred)\n",
    "\n",
    "# XGBoost\n",
    "evaluate_model(\"XGBoost\", y_test, xgb_test_pred)\n",
    "\n",
    "# Combined (Linear Regression meta-model)\n",
    "evaluate_model(\"Stacked Model (Linear Regression)\", y_test, final_pred)\n"
   ]
  }
 ],
 "metadata": {
  "kernelspec": {
   "display_name": "Python 3",
   "language": "python",
   "name": "python3"
  },
  "language_info": {
   "codemirror_mode": {
    "name": "ipython",
    "version": 3
   },
   "file_extension": ".py",
   "mimetype": "text/x-python",
   "name": "python",
   "nbconvert_exporter": "python",
   "pygments_lexer": "ipython3",
   "version": "3.13.5"
  }
 },
 "nbformat": 4,
 "nbformat_minor": 5
}
